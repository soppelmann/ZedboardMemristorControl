{
 "cells": [
  {
   "cell_type": "code",
   "execution_count": 40,
   "id": "9c7a5047",
   "metadata": {},
   "outputs": [
    {
     "data": {
      "application/javascript": [
       "\n",
       "try {\n",
       "require(['notebook/js/codecell'], function(codecell) {\n",
       "  codecell.CodeCell.options_default.highlight_modes[\n",
       "      'magic_text/x-csrc'] = {'reg':[/^%%microblaze/]};\n",
       "  Jupyter.notebook.events.one('kernel_ready.Kernel', function(){\n",
       "      Jupyter.notebook.get_cells().map(function(cell){\n",
       "          if (cell.cell_type == 'code'){ cell.auto_highlight(); } }) ;\n",
       "  });\n",
       "});\n",
       "} catch (e) {};\n"
      ]
     },
     "metadata": {},
     "output_type": "display_data"
    },
    {
     "data": {
      "application/javascript": [
       "\n",
       "try {\n",
       "require(['notebook/js/codecell'], function(codecell) {\n",
       "  codecell.CodeCell.options_default.highlight_modes[\n",
       "      'magic_text/x-csrc'] = {'reg':[/^%%pybind11/]};\n",
       "  Jupyter.notebook.events.one('kernel_ready.Kernel', function(){\n",
       "      Jupyter.notebook.get_cells().map(function(cell){\n",
       "          if (cell.cell_type == 'code'){ cell.auto_highlight(); } }) ;\n",
       "  });\n",
       "});\n",
       "} catch (e) {};\n"
      ]
     },
     "metadata": {},
     "output_type": "display_data"
    }
   ],
   "source": [
    "from pynq import Overlay\n",
    "from pynq import MMIO\n",
    "from time import sleep\n",
    "from pynq.lib import AxiGPIO\n",
    "overlay = Overlay('/home/xilinx/pynq/overlays/design/design_1.bit')"
   ]
  },
  {
   "cell_type": "code",
   "execution_count": 41,
   "id": "410dcbc8",
   "metadata": {},
   "outputs": [],
   "source": [
    "#AD5628 COMMADS\n",
    "REFERENCE_VOLTAGE     = 0b10001000000000000000000000000001\n",
    "CLEAR_ALL_CHANNELS    = 0b10000011111100000000000000000000\n",
    "CHANNEL_A_MAX         = 0b10000011000011111111111100000000\n",
    "CHANNEL_A_MIN         = 0b10000011000000000000000000000000\n",
    "CHANNEL_A_HALF        = 0b10000011000010000000000000000000\n",
    "WRITE_COMMAND         = 0b10000000000000000000000000000000\n",
    "UPDATE_ALL_CHANNELS   = 0b10000110000000000000000011111111\n",
    "\n",
    "\n",
    "#AXI SPI REGISTERS\n",
    "XSP_DGIER_OFFSET = 0x1C\n",
    "XSP_IISR_OFFSET = 0x20\n",
    "XSP_IIER_OFFSET = 0x28\n",
    "XSP_SRR_OFFSET = 0x40\n",
    "XSP_CR_OFFSET = 0x60\n",
    "XSP_SR_OFFSET = 0x64\n",
    "XSP_DTR_OFFSET = 0x68\n",
    "XSP_DRR_OFFSET = 0x6C\n",
    "XSP_SSR_OFFSET = 0x70\n",
    "XSP_TFO_OFFSET = 0x74\n",
    "XSP_RFO_OFFSET = 0x78\n",
    "\n",
    "#AXI SPI MASKS\n",
    "XSP_SRR_RESET_MASK = 0x0A\n",
    "XSP_SR_TX_EMPTY_MASK = 0x04\n",
    "XSP_SR_TX_FULL_MASK = 0x08\n",
    "XSP_CR_TRANS_INHIBIT_MASK = 0x100\n",
    "XSP_CR_LOOPBACK_MASK = 0x01\n",
    "XSP_CR_ENABLE_MASK = 0x02\n",
    "XSP_CR_MASTER_MODE_MASK = 0x04\n",
    "XSP_CR_CLK_POLARITY_MASK = 0x08\n",
    "XSP_CR_CLK_PHASE_MASK = 0x10\n",
    "XSP_CR_TXFIFO_RESET_MASK = 0x20\n",
    "XSP_CR_RXFIFO_RESET_MASK = 0x40\n",
    "XSP_CR_MANUAL_SS_MASK = 0x80\n",
    "SLAVE_NO_SELECTION = 0xFFFFFFFF\n",
    "\n",
    "#SYNC MASK\n",
    "SYNC_MASK = 0xFFFFFFFF"
   ]
  },
  {
   "cell_type": "code",
   "execution_count": 42,
   "id": "c82105ed",
   "metadata": {},
   "outputs": [],
   "source": [
    "#AD5628 Configuration\n",
    "def configure_ad5628(AxiQspi, clk_phase, clk_pol):\n",
    "    # Reset the SPI device\n",
    "    AxiQspi.write(XSP_SRR_OFFSET, XSP_SRR_RESET_MASK)\n",
    "    # Enable the transmit empty interrupt, which we use to determine progress on the transmission. \n",
    "    AxiQspi.write(XSP_IIER_OFFSET, XSP_SR_TX_EMPTY_MASK)\n",
    "    # Disable the global IPIF interrupt\n",
    "    AxiQspi.write(XSP_DGIER_OFFSET, 0)\n",
    "    # Deselect the slave on the SPI bus\n",
    "    AxiQspi.write(XSP_SSR_OFFSET, SLAVE_NO_SELECTION)\n",
    "    # Disable the transmitter, enable Manual Slave Select Assertion, put SPI controller into master mode, and enable it\n",
    "    ControlReg = AxiQspi.read(XSP_CR_OFFSET)\n",
    "    ControlReg = ControlReg | XSP_CR_MASTER_MODE_MASK | XSP_CR_MANUAL_SS_MASK | XSP_CR_ENABLE_MASK | XSP_CR_TXFIFO_RESET_MASK | XSP_CR_RXFIFO_RESET_MASK\n",
    "    AxiQspi.write(XSP_CR_OFFSET, ControlReg)\n",
    "    ControlReg = AxiQspi.read(XSP_CR_OFFSET)\n",
    "    ControlReg = ControlReg & ~(XSP_CR_CLK_PHASE_MASK | XSP_CR_CLK_POLARITY_MASK) \n",
    "    if clk_phase == 1:\n",
    "        ControlReg = ControlReg | XSP_CR_CLK_PHASE_MASK\n",
    "    if clk_pol == 1:\n",
    "        ControlReg = ControlReg | XSP_CR_CLK_POLARITY_MASK\n",
    "    AxiQspi.write(XSP_CR_OFFSET, ControlReg)\n",
    "\n",
    "    return \"AD5628 Configured\""
   ]
  },
  {
   "cell_type": "code",
   "execution_count": 43,
   "id": "4857e1b8",
   "metadata": {},
   "outputs": [],
   "source": [
    "#Function for AD5628 Data Transfers\n",
    "def transfer_ad5628(packet, AxiQspi):\n",
    "    #print(\"TransferData\")\n",
    "    for data in packet:\n",
    "        AxiQspi.write(XSP_DTR_OFFSET, data)\n",
    "        AxiQspi.write(XSP_SSR_OFFSET, 0xFFFFFFFE)\n",
    "        ControlReg = AxiQspi.read(XSP_CR_OFFSET)\n",
    "        ControlReg = ControlReg & ~XSP_CR_TRANS_INHIBIT_MASK\n",
    "        AxiQspi.write(XSP_CR_OFFSET, ControlReg)\n",
    "\n",
    "        StatusReg = AxiQspi.read(XSP_SR_OFFSET)\n",
    "        while (StatusReg & XSP_SR_TX_EMPTY_MASK) == 0:\n",
    "            StatusReg = AxiQspi.read(XSP_SR_OFFSET)\n",
    "\n",
    "        #print('XSP_RFO_OFFSET  : 0x{0:08x}'.format(AxiQspi.read(XSP_RFO_OFFSET)))\n",
    "        ControlReg = AxiQspi.read(XSP_CR_OFFSET)\n",
    "        ControlReg = ControlReg | XSP_CR_TRANS_INHIBIT_MASK\n",
    "        AxiQspi.write(XSP_CR_OFFSET, ControlReg)\n",
    "\n",
    "    AxiQspi.write(XSP_SSR_OFFSET, SLAVE_NO_SELECTION)\n",
    "\n",
    "    #print(\"ReadResponse\")\n",
    "    resp = list()\n",
    "    RxFifoStatus = AxiQspi.read(XSP_SR_OFFSET) & 0x01\n",
    "    while RxFifoStatus == 0:\n",
    "        temp = AxiQspi.read(XSP_RFO_OFFSET)\n",
    "        #print('XSP_RFO_OFFSET  : 0x{0:08x}'.format(temp))\n",
    "        temp = AxiQspi.read(XSP_DRR_OFFSET)\n",
    "        #print('XSP_DRR_OFFSET  : 0x{0:08x}'.format(temp))    \n",
    "        resp.append(temp)\n",
    "        RxFifoStatus = AxiQspi.read(XSP_SR_OFFSET) & 0x01\n",
    "\n",
    "    return resp"
   ]
  },
  {
   "cell_type": "code",
   "execution_count": 44,
   "id": "4578c6db",
   "metadata": {},
   "outputs": [],
   "source": [
    "def set_reference_voltage(sync_pin, ad5628_mod):\n",
    "    sync_pin.write(0x0, SYNC_MASK)\n",
    "    transfer_ad5628([REFERENCE_VOLTAGE], ad5628_mod)\n",
    "    sync_pin.write(0x1, SYNC_MASK)\n",
    "    return \"Reference voltage set\" "
   ]
  },
  {
   "cell_type": "code",
   "execution_count": 45,
   "id": "484b6c2a",
   "metadata": {},
   "outputs": [],
   "source": [
    "def set_channel_A_max(sync_pin, ad5628_mod):\n",
    "    sync_pin.write(0x0, SYNC_MASK)\n",
    "    transfer_ad5628([CHANNEL_A_MAX], ad5628_mod)\n",
    "    sync_pin.write(0x1, SYNC_MASK)\n",
    "    return \"Channel A set to max\" "
   ]
  },
  {
   "cell_type": "code",
   "execution_count": 46,
   "id": "16bf8ea2",
   "metadata": {},
   "outputs": [],
   "source": [
    "def write_channel(sync_pin, ad5628_mod, channel, value):\n",
    "    if (channel > 7 or channel < 0 or value > 2.5 or value < 0):\n",
    "        return \"Write failure: channel range [0,7] value range [0,2.5]\"\n",
    "    channel_int = channel << 20\n",
    "    value_int = round(4096*(value/2.5))\n",
    "    value_int = value_int << 8\n",
    "    command = WRITE_COMMAND | value_int | channel_int\n",
    "    sync_pin.write(0x0, SYNC_MASK)\n",
    "    transfer_ad5628([command], ad5628_mod)\n",
    "    sync_pin.write(0x1, SYNC_MASK)\n",
    "    return f\"Channel {channel} written with value {value}\" "
   ]
  },
  {
   "cell_type": "code",
   "execution_count": 47,
   "id": "a284375b",
   "metadata": {},
   "outputs": [],
   "source": [
    "def update_all_channels(sync_pin, ad5628_mod):\n",
    "    sync_pin.write(0x0, SYNC_MASK)\n",
    "    transfer_ad5628([UPDATE_ALL_CHANNELS], ad5628_mod)\n",
    "    sync_pin.write(0x1, SYNC_MASK)\n",
    "    return \"All Channels Updated\""
   ]
  },
  {
   "cell_type": "code",
   "execution_count": 48,
   "id": "6eb8f374",
   "metadata": {},
   "outputs": [],
   "source": [
    "def clear_all_channels(sync_pin,ad5628_mod):\n",
    "    sync_pin.write(0x0, SYNC_MASK)\n",
    "    transfer_ad5628([CLEAR_ALL_CHANNELS], ad5628_mod)\n",
    "    sync_pin.write(0x1, SYNC_MASK)\n",
    "    return \"All Channels Cleared\""
   ]
  }
 ],
 "metadata": {
  "kernelspec": {
   "display_name": "Python 3",
   "language": "python",
   "name": "python3"
  },
  "language_info": {
   "codemirror_mode": {
    "name": "ipython",
    "version": 3
   },
   "file_extension": ".py",
   "mimetype": "text/x-python",
   "name": "python",
   "nbconvert_exporter": "python",
   "pygments_lexer": "ipython3",
   "version": "3.8.2"
  }
 },
 "nbformat": 4,
 "nbformat_minor": 5
}
