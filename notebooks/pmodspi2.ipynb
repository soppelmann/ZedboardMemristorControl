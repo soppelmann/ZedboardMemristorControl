{
 "cells": [
  {
   "cell_type": "code",
   "execution_count": 57,
   "id": "de1b5cc2-946c-4bf3-955a-0fd283c8a183",
   "metadata": {},
   "outputs": [],
   "source": [
    "from pynq import Overlay\n",
    "from pynq import MMIO\n",
    "overlay = Overlay('/home/xilinx/pynq/overlays/pmod_spi/pmod_spi.bit')"
   ]
  },
  {
   "cell_type": "code",
   "execution_count": 58,
   "id": "083f62ca-4952-45f7-8c9b-9d75bfcff84b",
   "metadata": {},
   "outputs": [],
   "source": [
    "ad5628 = overlay.axi_quad_spi_0"
   ]
  },
  {
   "cell_type": "code",
   "execution_count": 68,
   "id": "206095da-54f4-479f-a5c2-46562b1f36a0",
   "metadata": {},
   "outputs": [],
   "source": [
    "SET_REFERENCE_VOLTAGE = 0x08000001\n",
    "XSP_DGIER_OFFSET = 0x1C\n",
    "XSP_IPISR_OFFSET = 0x20\n",
    "XSP_IPIER_OFFSET = 0x28\n",
    "XSP_SRR_OFFSET = 0x40\n",
    "XSP_CR_OFFSET = 0x60\n",
    "XSP_SR_OFFSET = 0x64\n",
    "XSP_DTR_OFFSET = 0x68\n",
    "XSP_DRR_OFFSET = 0x6C\n",
    "XSP_SSR_OFFSET = 0x70\n",
    "XSP_TFO_OFFSET = 0x74\n",
    "XSP_RFO_OFFSET = 0x78\n",
    "XSP_REGISTERS = [0x40, 0x60, 0x64, 0x68, 0x6c, 0x70, 0x74, 0x78, 0x1c, 0x20, 0x28]\n",
    "\n",
    "XSP_SRR_RESET_MASK = 0x0A\n",
    "XSP_SR_TX_EMPTY_MASK = 0x04\n",
    "XSP_SR_TX_FULL_MASK = 0x08\n",
    "XSP_CR_TRANS_INHIBIT_MASK = 0x100\n",
    "XSP_CR_LOOPBACK_MASK = 0x01\n",
    "XSP_CR_ENABLE_MASK = 0x02\n",
    "XSP_CR_MASTER_MODE_MASK = 0x04\n",
    "XSP_CR_CLK_POLARITY_MASK = 0x08\n",
    "XSP_CR_CLK_PHASE_MASK = 0x10\n",
    "XSP_CR_TXFIFO_RESET_MASK = 0x20\n",
    "XSP_CR_RXFIFO_RESET_MASK = 0x40\n",
    "XSP_CR_MANUAL_SS_MASK = 0x80\n",
    "\n",
    "SLAVE_NO_SELECTION = 0xFFFFFFFF\n",
    "\n",
    "def configure_ad5628(AxiQspi, clk_phase=0, clk_pol=0):\n",
    "    print(\"Configure device\")\n",
    "    # Reset the SPI device\n",
    "    AxiQspi.write(XSP_SRR_OFFSET, XSP_SRR_RESET_MASK)\n",
    "    # Enable the transmit empty interrupt, which we use to determine progress on the transmission. \n",
    "    AxiQspi.write(XSP_IIER_OFFSET, XSP_SR_TX_EMPTY_MASK)\n",
    "    # Disable the global IPIF interrupt\n",
    "    AxiQspi.write(XSP_DGIER_OFFSET, 0)\n",
    "    # Deselect the slave on the SPI bus\n",
    "    AxiQspi.write(XSP_SSR_OFFSET, SLAVE_NO_SELECTION)\n",
    "    # Disable the transmitter, enable Manual Slave Select Assertion, put SPI controller into master mode, and enable it\n",
    "    ControlReg = AxiQspi.read(XSP_CR_OFFSET)\n",
    "    ControlReg = ControlReg | XSP_CR_MASTER_MODE_MASK | XSP_CR_MANUAL_SS_MASK | XSP_CR_ENABLE_MASK | XSP_CR_TXFIFO_RESET_MASK | XSP_CR_RXFIFO_RESET_MASK\n",
    "    AxiQspi.write(XSP_CR_OFFSET, ControlReg)\n",
    "    ControlReg = AxiQspi.read(XSP_CR_OFFSET)\n",
    "    ControlReg = ControlReg & ~(XSP_CR_CLK_PHASE_MASK | XSP_CR_CLK_POLARITY_MASK) \n",
    "    if clk_phase == 1:\n",
    "        ControlReg = ControlReg | XSP_CR_CLK_PHASE_MASK\n",
    "    if clk_pol == 1:\n",
    "        ControlReg = ControlReg | XSP_CR_CLK_POLARITY_MASK\n",
    "    AxiQspi.write(XSP_CR_OFFSET, ControlReg)\n",
    "\n",
    "    return 0\n",
    "\n",
    "def xfer(packet, AxiQspi):\n",
    "    print(\"TransferData\")\n",
    "    for data in packet:\n",
    "        AxiQspi.write(XSP_DTR_OFFSET, data)\n",
    "        AxiQspi.write(XSP_SSR_OFFSET, 0xFFFFFFFE)\n",
    "        ControlReg = AxiQspi.read(XSP_CR_OFFSET)\n",
    "        ControlReg = ControlReg & ~XSP_CR_TRANS_INHIBIT_MASK\n",
    "        AxiQspi.write(XSP_CR_OFFSET, ControlReg)\n",
    "\n",
    "        StatusReg = AxiQspi.read(XSP_SR_OFFSET)\n",
    "        while (StatusReg & XSP_SR_TX_EMPTY_MASK) == 0:\n",
    "            StatusReg = AxiQspi.read(XSP_SR_OFFSET)\n",
    "\n",
    "        print('XSP_RFO_OFFSET  : 0x{0:08x}'.format(AxiQspi.read(XSP_RFO_OFFSET)))\n",
    "        ControlReg = AxiQspi.read(XSP_CR_OFFSET)\n",
    "        ControlReg = ControlReg | XSP_CR_TRANS_INHIBIT_MASK\n",
    "        AxiQspi.write(XSP_CR_OFFSET, ControlReg)\n",
    "\n",
    "    AxiQspi.write(XSP_SSR_OFFSET, SLAVE_NO_SELECTION)\n",
    "\n",
    "    print(\"ReadResponse\")\n",
    "    resp = list()\n",
    "    RxFifoStatus = AxiQspi.read(XSP_SR_OFFSET) & 0x01\n",
    "    while RxFifoStatus == 0:\n",
    "        temp = AxiQspi.read(XSP_RFO_OFFSET)\n",
    "        print('XSP_RFO_OFFSET  : 0x{0:08x}'.format(temp))\n",
    "        temp = AxiQspi.read(XSP_DRR_OFFSET)\n",
    "        print('XSP_DRR_OFFSET  : 0x{0:08x}'.format(temp))    \n",
    "        resp.append(temp)\n",
    "        RxFifoStatus = AxiQspi.read(XSP_SR_OFFSET) & 0x01\n",
    "\n",
    "    return resp"
   ]
  },
  {
   "cell_type": "code",
   "execution_count": 69,
   "id": "3347e8d6-74a6-478a-9e34-c9d39c0ac228",
   "metadata": {},
   "outputs": [
    {
     "name": "stdout",
     "output_type": "stream",
     "text": [
      "Configure device\n"
     ]
    },
    {
     "data": {
      "text/plain": [
       "0"
      ]
     },
     "execution_count": 69,
     "metadata": {},
     "output_type": "execute_result"
    }
   ],
   "source": [
    "configure_ad5628(ad5628)"
   ]
  },
  {
   "cell_type": "code",
   "execution_count": 73,
   "id": "f293f95b-bb6b-4314-836f-cb1102dbe8b7",
   "metadata": {},
   "outputs": [
    {
     "name": "stdout",
     "output_type": "stream",
     "text": [
      "TransferData\n",
      "XSP_RFO_OFFSET  : 0x00000000\n",
      "ReadResponse\n",
      "XSP_RFO_OFFSET  : 0x00000000\n",
      "XSP_DRR_OFFSET  : 0x00000000\n",
      "TransferData\n",
      "XSP_RFO_OFFSET  : 0x00000000\n",
      "XSP_RFO_OFFSET  : 0x00000001\n",
      "XSP_RFO_OFFSET  : 0x00000002\n",
      "ReadResponse\n",
      "XSP_RFO_OFFSET  : 0x00000002\n",
      "XSP_DRR_OFFSET  : 0x00000000\n",
      "XSP_RFO_OFFSET  : 0x00000001\n",
      "XSP_DRR_OFFSET  : 0x00000000\n",
      "XSP_RFO_OFFSET  : 0x00000000\n",
      "XSP_DRR_OFFSET  : 0x00000000\n"
     ]
    }
   ],
   "source": [
    "transfer = xfer([SET_REFERENCE_VOLTAGE], ad5628)\n",
    "transfer1= xfer([0x11111111, 0x00000000, 0x10101010], ad5628)"
   ]
  },
  {
   "cell_type": "code",
   "execution_count": null,
   "id": "ff440f20-d163-4d20-ad37-aa49873815dd",
   "metadata": {},
   "outputs": [],
   "source": []
  }
 ],
 "metadata": {
  "kernelspec": {
   "display_name": "Python 3",
   "language": "python",
   "name": "python3"
  },
  "language_info": {
   "codemirror_mode": {
    "name": "ipython",
    "version": 3
   },
   "file_extension": ".py",
   "mimetype": "text/x-python",
   "name": "python",
   "nbconvert_exporter": "python",
   "pygments_lexer": "ipython3",
   "version": "3.8.2"
  }
 },
 "nbformat": 4,
 "nbformat_minor": 5
}
