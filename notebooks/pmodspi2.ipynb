{
 "cells": [
  {
   "cell_type": "code",
   "execution_count": 1,
   "id": "de1b5cc2-946c-4bf3-955a-0fd283c8a183",
   "metadata": {},
   "outputs": [
    {
     "data": {
      "application/javascript": [
       "\n",
       "try {\n",
       "require(['notebook/js/codecell'], function(codecell) {\n",
       "  codecell.CodeCell.options_default.highlight_modes[\n",
       "      'magic_text/x-csrc'] = {'reg':[/^%%microblaze/]};\n",
       "  Jupyter.notebook.events.one('kernel_ready.Kernel', function(){\n",
       "      Jupyter.notebook.get_cells().map(function(cell){\n",
       "          if (cell.cell_type == 'code'){ cell.auto_highlight(); } }) ;\n",
       "  });\n",
       "});\n",
       "} catch (e) {};\n"
      ]
     },
     "metadata": {},
     "output_type": "display_data"
    },
    {
     "data": {
      "application/javascript": [
       "\n",
       "try {\n",
       "require(['notebook/js/codecell'], function(codecell) {\n",
       "  codecell.CodeCell.options_default.highlight_modes[\n",
       "      'magic_text/x-csrc'] = {'reg':[/^%%pybind11/]};\n",
       "  Jupyter.notebook.events.one('kernel_ready.Kernel', function(){\n",
       "      Jupyter.notebook.get_cells().map(function(cell){\n",
       "          if (cell.cell_type == 'code'){ cell.auto_highlight(); } }) ;\n",
       "  });\n",
       "});\n",
       "} catch (e) {};\n"
      ]
     },
     "metadata": {},
     "output_type": "display_data"
    },
    {
     "ename": "OSError",
     "evalue": "Bitstream file /home/xilinx/pynq/overlays/design/design.bit does not exist.",
     "output_type": "error",
     "traceback": [
      "\u001b[0;31m---------------------------------------------------------------------------\u001b[0m",
      "\u001b[0;31mOSError\u001b[0m                                   Traceback (most recent call last)",
      "\u001b[0;32m<ipython-input-1-6986d3147c75>\u001b[0m in \u001b[0;36m<module>\u001b[0;34m\u001b[0m\n\u001b[1;32m      3\u001b[0m \u001b[0;32mfrom\u001b[0m \u001b[0mtime\u001b[0m \u001b[0;32mimport\u001b[0m \u001b[0msleep\u001b[0m\u001b[0;34m\u001b[0m\u001b[0;34m\u001b[0m\u001b[0m\n\u001b[1;32m      4\u001b[0m \u001b[0;32mfrom\u001b[0m \u001b[0mpynq\u001b[0m\u001b[0;34m.\u001b[0m\u001b[0mlib\u001b[0m \u001b[0;32mimport\u001b[0m \u001b[0mAxiGPIO\u001b[0m\u001b[0;34m\u001b[0m\u001b[0;34m\u001b[0m\u001b[0m\n\u001b[0;32m----> 5\u001b[0;31m \u001b[0moverlay\u001b[0m \u001b[0;34m=\u001b[0m \u001b[0mOverlay\u001b[0m\u001b[0;34m(\u001b[0m\u001b[0;34m'/home/xilinx/pynq/overlays/design/design.bit'\u001b[0m\u001b[0;34m)\u001b[0m\u001b[0;34m\u001b[0m\u001b[0;34m\u001b[0m\u001b[0m\n\u001b[0m",
      "\u001b[0;32m/usr/local/share/pynq-venv/lib/python3.8/site-packages/pynq/overlay.py\u001b[0m in \u001b[0;36m__init__\u001b[0;34m(self, bitfile_name, dtbo, download, ignore_version, device)\u001b[0m\n\u001b[1;32m    334\u001b[0m \u001b[0;34m\u001b[0m\u001b[0m\n\u001b[1;32m    335\u001b[0m         \"\"\"\n\u001b[0;32m--> 336\u001b[0;31m         \u001b[0msuper\u001b[0m\u001b[0;34m(\u001b[0m\u001b[0;34m)\u001b[0m\u001b[0;34m.\u001b[0m\u001b[0m__init__\u001b[0m\u001b[0;34m(\u001b[0m\u001b[0mbitfile_name\u001b[0m\u001b[0;34m,\u001b[0m \u001b[0mdtbo\u001b[0m\u001b[0;34m,\u001b[0m \u001b[0mpartial\u001b[0m\u001b[0;34m=\u001b[0m\u001b[0;32mFalse\u001b[0m\u001b[0;34m,\u001b[0m \u001b[0mdevice\u001b[0m\u001b[0;34m=\u001b[0m\u001b[0mdevice\u001b[0m\u001b[0;34m)\u001b[0m\u001b[0;34m\u001b[0m\u001b[0;34m\u001b[0m\u001b[0m\n\u001b[0m\u001b[1;32m    337\u001b[0m \u001b[0;34m\u001b[0m\u001b[0m\n\u001b[1;32m    338\u001b[0m         \u001b[0mself\u001b[0m\u001b[0;34m.\u001b[0m\u001b[0m_register_drivers\u001b[0m\u001b[0;34m(\u001b[0m\u001b[0;34m)\u001b[0m\u001b[0;34m\u001b[0m\u001b[0;34m\u001b[0m\u001b[0m\n",
      "\u001b[0;32m/usr/local/share/pynq-venv/lib/python3.8/site-packages/pynq/bitstream.py\u001b[0m in \u001b[0;36m__init__\u001b[0;34m(self, bitfile_name, dtbo, partial, device)\u001b[0m\n\u001b[1;32m    135\u001b[0m             \u001b[0mself\u001b[0m\u001b[0;34m.\u001b[0m\u001b[0mbitfile_name\u001b[0m \u001b[0;34m=\u001b[0m \u001b[0mbitfile_overlay_abs_lst\u001b[0m\u001b[0;34m[\u001b[0m\u001b[0;36m0\u001b[0m\u001b[0;34m]\u001b[0m\u001b[0;34m\u001b[0m\u001b[0;34m\u001b[0m\u001b[0m\n\u001b[1;32m    136\u001b[0m         \u001b[0;32melse\u001b[0m\u001b[0;34m:\u001b[0m\u001b[0;34m\u001b[0m\u001b[0;34m\u001b[0m\u001b[0m\n\u001b[0;32m--> 137\u001b[0;31m             raise IOError('Bitstream file {} does not exist.'.format(\n\u001b[0m\u001b[1;32m    138\u001b[0m                 bitfile_name))\n\u001b[1;32m    139\u001b[0m \u001b[0;34m\u001b[0m\u001b[0m\n",
      "\u001b[0;31mOSError\u001b[0m: Bitstream file /home/xilinx/pynq/overlays/design/design.bit does not exist."
     ]
    }
   ],
   "source": [
    "from pynq import Overlay\n",
    "from pynq import MMIO\n",
    "from time import sleep\n",
    "from pynq.lib import AxiGPIO\n",
    "overlay = Overlay('/home/xilinx/pynq/overlays/design/design.bit')"
   ]
  },
  {
   "cell_type": "code",
   "execution_count": 21,
   "id": "083f62ca-4952-45f7-8c9b-9d75bfcff84b",
   "metadata": {},
   "outputs": [],
   "source": [
    "ad5628 = overlay.axi_quad_spi_0"
   ]
  },
  {
   "cell_type": "code",
   "execution_count": 22,
   "id": "206095da-54f4-479f-a5c2-46562b1f36a0",
   "metadata": {},
   "outputs": [],
   "source": [
    "SET_REFERENCE_VOLTAGE = 0x08000001\n",
    "XSP_DGIER_OFFSET = 0x1C\n",
    "XSP_IPISR_OFFSET = 0x20\n",
    "XSP_IPIER_OFFSET = 0x28\n",
    "XSP_SRR_OFFSET = 0x40\n",
    "XSP_CR_OFFSET = 0x60\n",
    "XSP_SR_OFFSET = 0x64\n",
    "XSP_DTR_OFFSET = 0x68\n",
    "XSP_DRR_OFFSET = 0x6C\n",
    "XSP_SSR_OFFSET = 0x70\n",
    "XSP_TFO_OFFSET = 0x74\n",
    "XSP_RFO_OFFSET = 0x78\n",
    "XSP_REGISTERS = [0x40, 0x60, 0x64, 0x68, 0x6c, 0x70, 0x74, 0x78, 0x1c, 0x20, 0x28]\n",
    "\n",
    "XSP_SRR_RESET_MASK = 0x0A\n",
    "XSP_SR_TX_EMPTY_MASK = 0x04\n",
    "XSP_SR_TX_FULL_MASK = 0x08\n",
    "XSP_CR_TRANS_INHIBIT_MASK = 0x100\n",
    "XSP_CR_LOOPBACK_MASK = 0x01\n",
    "XSP_CR_ENABLE_MASK = 0x02\n",
    "XSP_CR_MASTER_MODE_MASK = 0x04\n",
    "XSP_CR_CLK_POLARITY_MASK = 0x08\n",
    "XSP_CR_CLK_PHASE_MASK = 0x10\n",
    "XSP_CR_TXFIFO_RESET_MASK = 0x20\n",
    "XSP_CR_RXFIFO_RESET_MASK = 0x40\n",
    "XSP_CR_MANUAL_SS_MASK = 0x80\n",
    "\n",
    "SLAVE_NO_SELECTION = 0xFFFFFFFF\n",
    "\n",
    "def configure_ad5628(AxiQspi, clk_phase=0, clk_pol=0):\n",
    "    print(\"Configure device\")\n",
    "    # Reset the SPI device\n",
    "    AxiQspi.write(XSP_SRR_OFFSET, XSP_SRR_RESET_MASK)\n",
    "    # Enable the transmit empty interrupt, which we use to determine progress on the transmission. \n",
    "    AxiQspi.write(XSP_IPIER_OFFSET, XSP_SR_TX_EMPTY_MASK)\n",
    "    # Disable the global IPIF interrupt\n",
    "    AxiQspi.write(XSP_DGIER_OFFSET, 0)\n",
    "    # Deselect the slave on the SPI bus\n",
    "    AxiQspi.write(XSP_SSR_OFFSET, SLAVE_NO_SELECTION)\n",
    "    # Disable the transmitter, enable Manual Slave Select Assertion, put SPI controller into master mode, and enable it\n",
    "    ControlReg = AxiQspi.read(XSP_CR_OFFSET)\n",
    "    ControlReg = ControlReg | XSP_CR_MASTER_MODE_MASK | XSP_CR_MANUAL_SS_MASK | XSP_CR_ENABLE_MASK | XSP_CR_TXFIFO_RESET_MASK | XSP_CR_RXFIFO_RESET_MASK\n",
    "    AxiQspi.write(XSP_CR_OFFSET, ControlReg)\n",
    "    ControlReg = AxiQspi.read(XSP_CR_OFFSET)\n",
    "    ControlReg = ControlReg & ~(XSP_CR_CLK_PHASE_MASK | XSP_CR_CLK_POLARITY_MASK) \n",
    "    if clk_phase == 1:\n",
    "        ControlReg = ControlReg | XSP_CR_CLK_PHASE_MASK\n",
    "    if clk_pol == 1:\n",
    "        ControlReg = ControlReg | XSP_CR_CLK_POLARITY_MASK\n",
    "    AxiQspi.write(XSP_CR_OFFSET, ControlReg)\n",
    "\n",
    "    return 0\n",
    "\n",
    "def xfer(packet, AxiQspi):\n",
    "    print(\"TransferData\")\n",
    "    for data in packet:\n",
    "        AxiQspi.write(XSP_DTR_OFFSET, data)\n",
    "        AxiQspi.write(XSP_SSR_OFFSET, 0xFFFFFFFE)\n",
    "        ControlReg = AxiQspi.read(XSP_CR_OFFSET)\n",
    "        ControlReg = ControlReg & ~XSP_CR_TRANS_INHIBIT_MASK\n",
    "        AxiQspi.write(XSP_CR_OFFSET, ControlReg)\n",
    "\n",
    "        StatusReg = AxiQspi.read(XSP_SR_OFFSET)\n",
    "        while (StatusReg & XSP_SR_TX_EMPTY_MASK) == 0:\n",
    "            StatusReg = AxiQspi.read(XSP_SR_OFFSET)\n",
    "\n",
    "        print('XSP_RFO_OFFSET  : 0x{0:08x}'.format(AxiQspi.read(XSP_RFO_OFFSET)))\n",
    "        ControlReg = AxiQspi.read(XSP_CR_OFFSET)\n",
    "        ControlReg = ControlReg | XSP_CR_TRANS_INHIBIT_MASK\n",
    "        AxiQspi.write(XSP_CR_OFFSET, ControlReg)\n",
    "\n",
    "    AxiQspi.write(XSP_SSR_OFFSET, SLAVE_NO_SELECTION)\n",
    "\n",
    "    print(\"ReadResponse\")\n",
    "    resp = list()\n",
    "    RxFifoStatus = AxiQspi.read(XSP_SR_OFFSET) & 0x01\n",
    "    while RxFifoStatus == 0:\n",
    "        temp = AxiQspi.read(XSP_RFO_OFFSET)\n",
    "        print('XSP_RFO_OFFSET  : 0x{0:08x}'.format(temp))\n",
    "        temp = AxiQspi.read(XSP_DRR_OFFSET)\n",
    "        print('XSP_DRR_OFFSET  : 0x{0:08x}'.format(temp))    \n",
    "        resp.append(temp)\n",
    "        RxFifoStatus = AxiQspi.read(XSP_SR_OFFSET) & 0x01\n",
    "\n",
    "    return resp"
   ]
  },
  {
   "cell_type": "code",
   "execution_count": 23,
   "id": "3347e8d6-74a6-478a-9e34-c9d39c0ac228",
   "metadata": {},
   "outputs": [
    {
     "name": "stdout",
     "output_type": "stream",
     "text": [
      "Configure device\n"
     ]
    },
    {
     "data": {
      "text/plain": [
       "0"
      ]
     },
     "execution_count": 23,
     "metadata": {},
     "output_type": "execute_result"
    }
   ],
   "source": [
    "configure_ad5628(ad5628)"
   ]
  },
  {
   "cell_type": "code",
   "execution_count": 27,
   "id": "f293f95b-bb6b-4314-836f-cb1102dbe8b7",
   "metadata": {},
   "outputs": [
    {
     "name": "stdout",
     "output_type": "stream",
     "text": [
      "TransferData\n",
      "XSP_RFO_OFFSET  : 0x00000000\n",
      "ReadResponse\n",
      "XSP_RFO_OFFSET  : 0x00000000\n",
      "XSP_DRR_OFFSET  : 0x00000000\n"
     ]
    }
   ],
   "source": [
    "transfer = xfer([SET_REFERENCE_VOLTAGE], ad5628)\n",
    "#transfer1= xfer([0x11111111, 0x00000000, 0x10101010], ad5628)"
   ]
  },
  {
   "cell_type": "code",
   "execution_count": 25,
   "id": "ff440f20-d163-4d20-ad37-aa49873815dd",
   "metadata": {},
   "outputs": [],
   "source": [
    "CTRL_WEST = AxiGPIO(overlay.ip_dict['CTRL_WEST']).channel1\n",
    "CTRL_NORTH = AxiGPIO(overlay.ip_dict['CTRL_NORTH']).channel1\n",
    "ADC_1 = AxiGPIO(overlay.ip_dict['ADC_1']).channel1\n",
    "ADC_2 = AxiGPIO(overlay.ip_dict['ADC_2']).channel1\n",
    "ADC_3 = AxiGPIO(overlay.ip_dict['ADC_3']).channel1\n",
    "ADC_4 = AxiGPIO(overlay.ip_dict['ADC_4']).channel1"
   ]
  },
  {
   "cell_type": "code",
   "execution_count": 26,
   "id": "372e8743",
   "metadata": {},
   "outputs": [
    {
     "data": {
      "text/plain": [
       "'0b0'"
      ]
     },
     "execution_count": 26,
     "metadata": {},
     "output_type": "execute_result"
    }
   ],
   "source": [
    "ADC_1.setdirection(\"in\")\n",
    "ADC_1.setlength(12)\n",
    "bin(ADC_1.read())"
   ]
  },
  {
   "cell_type": "code",
   "execution_count": null,
   "id": "1249f2ac",
   "metadata": {},
   "outputs": [],
   "source": []
  }
 ],
 "metadata": {
  "kernelspec": {
   "display_name": "Python 3",
   "language": "python",
   "name": "python3"
  },
  "language_info": {
   "codemirror_mode": {
    "name": "ipython",
    "version": 3
   },
   "file_extension": ".py",
   "mimetype": "text/x-python",
   "name": "python",
   "nbconvert_exporter": "python",
   "pygments_lexer": "ipython3",
   "version": "3.8.2"
  }
 },
 "nbformat": 4,
 "nbformat_minor": 5
}
