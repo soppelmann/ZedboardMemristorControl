{
 "cells": [
  {
   "cell_type": "markdown",
   "id": "7a409ae2",
   "metadata": {
    "extensions": {
     "jupyter_dashboards": {
      "version": 1,
      "views": {
       "default_view": {
        "col": 0,
        "height": 2,
        "row": 8,
        "width": 12
       }
      }
     }
    }
   },
   "source": [
    "## Matrix multiplier\n",
    "\n",
    "Two matrices A and B\n",
    "\n",
    "These is a breakout board connected to the FMC port.\n",
    "This can be useful for debugging, we mainly use the J1 connector, it is split in and even and odd row.\n",
    "Cross reference between datasheet and .xdc file for connections.\n",
    "\n",
    "A suggested setup is pin 10 (CTRL_WEST[0])on odd row connected to (ADC_1[2]) pin 2 on even row"
   ]
  },
  {
   "cell_type": "code",
   "execution_count": 15,
   "id": "f49c73cc",
   "metadata": {
    "extensions": {
     "jupyter_dashboards": {
      "version": 1,
      "views": {
       "default_view": {
        "col": 0,
        "height": 2,
        "row": 6,
        "width": 12
       }
      }
     }
    }
   },
   "outputs": [],
   "source": [
    "from pynq import Overlay\n",
    "from pynq import MMIO\n",
    "from time import sleep\n",
    "from pynq.lib import AxiGPIO\n",
    "overlay = Overlay('/home/xilinx/pynq/overlays/design/design_1.bit')\n",
    "%run ./AD5628.ipynb\n",
    "\n",
    "CTRL_WEST = AxiGPIO(overlay.ip_dict['CTRL_WEST']).channel1\n",
    "ADC_1 = AxiGPIO(overlay.ip_dict['ADC_1']).channel1\n",
    "ADC_2 = AxiGPIO(overlay.ip_dict['ADC_2']).channel1\n",
    "ADC_3 = AxiGPIO(overlay.ip_dict['ADC_3']).channel1\n",
    "ADC_4 = AxiGPIO(overlay.ip_dict['ADC_4']).channel1\n",
    "AD5628 = overlay.DA4_SPI"
   ]
  },
  {
   "cell_type": "markdown",
   "id": "b13fb6f6",
   "metadata": {
    "extensions": {
     "jupyter_dashboards": {
      "version": 1,
      "views": {
       "default_view": {
        "col": 0,
        "height": 2,
        "row": 4,
        "width": 12
       }
      }
     }
    }
   },
   "source": [
    "#### Configure the DAC"
   ]
  },
  {
   "cell_type": "code",
   "execution_count": 16,
   "id": "f84f6c85",
   "metadata": {
    "extensions": {
     "jupyter_dashboards": {
      "version": 1,
      "views": {
       "default_view": {
        "col": 0,
        "height": 2,
        "row": 2,
        "width": 12
       }
      }
     }
    }
   },
   "outputs": [
    {
     "name": "stdout",
     "output_type": "stream",
     "text": [
      "AD5628 Initialized\n"
     ]
    },
    {
     "data": {
      "text/plain": [
       "'All Channels Cleared'"
      ]
     },
     "execution_count": 16,
     "metadata": {},
     "output_type": "execute_result"
    }
   ],
   "source": [
    "#Initialize\n",
    "sync = AxiGPIO(overlay.ip_dict['DA4_GPIO']).channel1\n",
    "sync.setdirection(\"out\")\n",
    "sync.setlength(1)\n",
    "ad5628 = overlay.DA4_SPI\n",
    "mask = 0xffffffff\n",
    "sync.write(0x1,mask)\n",
    "print(\"AD5628 Initialized\")\n",
    "\n",
    "configure_ad5628(ad5628,0,1)\n",
    "set_reference_voltage(sync, ad5628)\n",
    "clear_all_channels(sync, ad5628)"
   ]
  },
  {
   "cell_type": "markdown",
   "id": "b6cbf69e",
   "metadata": {},
   "source": [
    "#### Configure ADC reading\n",
    "\n"
   ]
  },
  {
   "cell_type": "code",
   "execution_count": 23,
   "id": "97b5fa7f",
   "metadata": {
    "extensions": {
     "jupyter_dashboards": {
      "version": 1,
      "views": {
       "default_view": {
        "hidden": true
       }
      }
     }
    }
   },
   "outputs": [],
   "source": [
    "ADC_1.setdirection(\"in\")\n",
    "ADC_1.setlength(12)\n",
    "ADC_2.setdirection(\"in\")\n",
    "ADC_2.setlength(12)\n",
    "ADC_3.setdirection(\"in\")\n",
    "ADC_3.setlength(12)\n",
    "ADC_4.setdirection(\"in\")\n",
    "ADC_4.setlength(12)\n",
    "raw = ADC_1.read()\n",
    "\n",
    "ad_mask = 0b111111111111  # Equivalent to 255 or 0xFF\n",
    "masked_value = ~raw & ad_mask\n",
    "\n",
    "# Output in binary\n",
    "bit = bin(masked_value)\n",
    "bit\n",
    "\n",
    "def setup_ADCs(ADCs):\n",
    "    for ADC in ADCs:\n",
    "        ADC.setdirection(\"in\")\n",
    "        ADC.setlength(12)\n",
    "    \n",
    "def apply_mask_and_read(ADC):\n",
    "    ad_mask = 0b111111111111  # Define the constant mask here\n",
    "    raw = ADC.read()\n",
    "    masked_value = ~raw & ad_mask\n",
    "    return masked_value\n"
   ]
  },
  {
   "cell_type": "markdown",
   "id": "dc61112b",
   "metadata": {},
   "source": [
    "#### Configure MUX ctrl"
   ]
  },
  {
   "cell_type": "code",
   "execution_count": 24,
   "id": "20ad91d5",
   "metadata": {},
   "outputs": [],
   "source": [
    "CTRL_WEST.setdirection(\"out\")\n",
    "CTRL_WEST.setlength(4)\n",
    "\n",
    "cmask = 0b1111\n",
    "CTRL_WEST.write(0b1111,cmask)\n",
    "sleep(3)\n",
    "CTRL_WEST.write(0b0000,cmask)"
   ]
  },
  {
   "cell_type": "markdown",
   "id": "79c9affc",
   "metadata": {},
   "source": [
    "#### Setup PGA SPI control"
   ]
  },
  {
   "cell_type": "code",
   "execution_count": 25,
   "id": "4c5d4b43",
   "metadata": {},
   "outputs": [],
   "source": [
    "# Write this code"
   ]
  },
  {
   "cell_type": "markdown",
   "id": "2c370942",
   "metadata": {},
   "source": [
    "#### Matrix operations\n",
    "\n",
    "Matrix A will be programmed as weights\n",
    "Matrix B will be the input vector\n",
    "<td> <img src=\"https://dflund.se/~getz/Uploads/Memristor/CrossbarMatrix.png\" alt=\"Drawing\" style=\"width: 500px;\"/> </td>\n",
    "\n",
    "##### TODO:\n",
    "Mapping from values to voltages, wrap this in a function.\n",
    "Perhaps find largest value and map it to 2.5V and derive from there"
   ]
  },
  {
   "cell_type": "code",
   "execution_count": 26,
   "id": "f4c454ac",
   "metadata": {},
   "outputs": [],
   "source": [
    "matrixA = [\n",
    "    [12, 7, 3, 2],\n",
    "    [4, 5, 6, 1],\n",
    "    [7, 8, 9, 5],\n",
    "    [9, 3, 2, 11]\n",
    "]\n",
    "\n",
    "matrixB = [\n",
    "    [5, 8, 1, 6]\n",
    "]\n",
    "\n",
    "matrixC = [\n",
    "    [0, 0, 0, 0]\n",
    "]\n",
    "\n",
    "# Initialize the maximum value to the first element of the matrix\n",
    "max_value = matrixA[0][0]\n",
    "\n",
    "# Iterate over each row of matrixA\n",
    "for row in matrixA:\n",
    "    # Iterate over each element in the row\n",
    "    for element in row:\n",
    "        # Update max_value if the current element is larger\n",
    "        if element > max_value:\n",
    "            max_value = element\n",
    "            \n",
    "norm_factor = max_value/2.5"
   ]
  },
  {
   "cell_type": "code",
   "execution_count": 27,
   "id": "edafaec7",
   "metadata": {},
   "outputs": [
    {
     "name": "stdout",
     "output_type": "stream",
     "text": [
      "4\n",
      "0\n",
      "0\n",
      "0\n"
     ]
    }
   ],
   "source": [
    "# Start by programming weights!\n",
    "\n",
    "# Dont know what to output as bias, currently gnd.\n",
    "# set by clear_all_channels and only 0-3 are given values.\n",
    "\n",
    "# column 0\n",
    "CTRL_WEST.write(0b0001,cmask)\n",
    "clear_all_channels(sync, ad5628)\n",
    "for i, row in enumerate(matrixA):\n",
    "    write_channel(sync,ad5628,i, row[0]/norm_factor)\n",
    "\n",
    "# column 1\n",
    "CTRL_WEST.write(0b0010,cmask)\n",
    "clear_all_channels(sync, ad5628)\n",
    "for i, row in enumerate(matrixA):\n",
    "    write_channel(sync,ad5628,i, row[1]/norm_factor)\n",
    "\n",
    "# column 2\n",
    "CTRL_WEST.write(0b0100,cmask)\n",
    "clear_all_channels(sync, ad5628)\n",
    "for i, row in enumerate(matrixA):\n",
    "    write_channel(sync,ad5628,i, row[2]/norm_factor)\n",
    "\n",
    "# column 3\n",
    "CTRL_WEST.write(0b1000,cmask)\n",
    "clear_all_channels(sync, ad5628)\n",
    "for i, row in enumerate(matrixA):\n",
    "    write_channel(sync,ad5628,i, row[3]/norm_factor)\n",
    "\n",
    "# Now all weights are programmed, lets calculate.\n",
    "CTRL_WEST.write(0b0000,cmask)\n",
    "for j, element in enumerate(matrixB[0]):\n",
    "    write_channel(sync,ad5628,j, element/norm_factor)\n",
    "\n",
    "# Usage\n",
    "ADCs = [ADC_1, ADC_2, ADC_3, ADC_4]\n",
    "setup_ADCs(ADCs)\n",
    "\n",
    "for ADC in ADCs:\n",
    "    bit = apply_mask_and_read(ADC)\n",
    "    print(bit)\n"
   ]
  },
  {
   "cell_type": "code",
   "execution_count": 28,
   "id": "ccfc808a",
   "metadata": {},
   "outputs": [
    {
     "data": {
      "text/plain": [
       "4091"
      ]
     },
     "execution_count": 28,
     "metadata": {},
     "output_type": "execute_result"
    }
   ],
   "source": [
    "ADC_1.read()"
   ]
  },
  {
   "cell_type": "code",
   "execution_count": null,
   "id": "95da4810",
   "metadata": {},
   "outputs": [],
   "source": []
  }
 ],
 "metadata": {
  "extensions": {
   "jupyter_dashboards": {
    "activeView": "default_view",
    "version": 1,
    "views": {
     "default_view": {
      "cellMargin": 10,
      "defaultCellHeight": 40,
      "maxColumns": 12,
      "name": "active_view",
      "type": "grid"
     }
    }
   }
  },
  "kernelspec": {
   "display_name": "Python 3",
   "language": "python",
   "name": "python3"
  },
  "language_info": {
   "codemirror_mode": {
    "name": "ipython",
    "version": 3
   },
   "file_extension": ".py",
   "mimetype": "text/x-python",
   "name": "python",
   "nbconvert_exporter": "python",
   "pygments_lexer": "ipython3",
   "version": "3.8.2"
  }
 },
 "nbformat": 4,
 "nbformat_minor": 5
}
