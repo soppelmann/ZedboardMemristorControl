{
 "cells": [
  {
   "cell_type": "markdown",
   "id": "ee7ad832",
   "metadata": {},
   "source": [
    "### FMC & DAC testbench\n",
    "\n",
    "AD5628.ipynb acts as a library\n",
    "\n",
    "FMC pins are read and written to directly through the overlay.\n"
   ]
  },
  {
   "cell_type": "code",
   "execution_count": 1,
   "id": "9b85705c",
   "metadata": {},
   "outputs": [
    {
     "data": {
      "application/javascript": [
       "\n",
       "try {\n",
       "require(['notebook/js/codecell'], function(codecell) {\n",
       "  codecell.CodeCell.options_default.highlight_modes[\n",
       "      'magic_text/x-csrc'] = {'reg':[/^%%microblaze/]};\n",
       "  Jupyter.notebook.events.one('kernel_ready.Kernel', function(){\n",
       "      Jupyter.notebook.get_cells().map(function(cell){\n",
       "          if (cell.cell_type == 'code'){ cell.auto_highlight(); } }) ;\n",
       "  });\n",
       "});\n",
       "} catch (e) {};\n"
      ]
     },
     "metadata": {},
     "output_type": "display_data"
    },
    {
     "data": {
      "application/javascript": [
       "\n",
       "try {\n",
       "require(['notebook/js/codecell'], function(codecell) {\n",
       "  codecell.CodeCell.options_default.highlight_modes[\n",
       "      'magic_text/x-csrc'] = {'reg':[/^%%pybind11/]};\n",
       "  Jupyter.notebook.events.one('kernel_ready.Kernel', function(){\n",
       "      Jupyter.notebook.get_cells().map(function(cell){\n",
       "          if (cell.cell_type == 'code'){ cell.auto_highlight(); } }) ;\n",
       "  });\n",
       "});\n",
       "} catch (e) {};\n"
      ]
     },
     "metadata": {},
     "output_type": "display_data"
    }
   ],
   "source": [
    "from pynq import Overlay\n",
    "from pynq import MMIO\n",
    "from time import sleep\n",
    "from pynq.lib import AxiGPIO\n",
    "overlay = Overlay('/home/xilinx/pynq/overlays/design/design_1.bit')\n",
    "%run /home/xilinx/jupyter_notebooks/Memristors/AD5628.ipynb"
   ]
  },
  {
   "cell_type": "code",
   "execution_count": 2,
   "id": "0de80f80",
   "metadata": {},
   "outputs": [
    {
     "data": {
      "text/plain": [
       "\u001b[0;31mType:\u001b[0m            Overlay\n",
       "\u001b[0;31mString form:\u001b[0m     <pynq.overlay.Overlay object at 0xaef89778>\n",
       "\u001b[0;31mFile:\u001b[0m            /usr/local/share/pynq-venv/lib/python3.8/site-packages/pynq/overlay.py\n",
       "\u001b[0;31mDocstring:\u001b[0m      \n",
       "Default documentation for overlay /home/xilinx/pynq/overlays/design/design_1.bit. The following\n",
       "attributes are available on this overlay:\n",
       "\n",
       "IP Blocks\n",
       "----------\n",
       "CTRL_WEST            : pynq.lib.axigpio.AxiGPIO\n",
       "CTRL_NORTH           : pynq.lib.axigpio.AxiGPIO\n",
       "ADC_1                : pynq.lib.axigpio.AxiGPIO\n",
       "ADC_2                : pynq.lib.axigpio.AxiGPIO\n",
       "ADC_3                : pynq.lib.axigpio.AxiGPIO\n",
       "ADC_4                : pynq.lib.axigpio.AxiGPIO\n",
       "SYNC                 : pynq.lib.axigpio.AxiGPIO\n",
       "DA4_SPI              : pynq.overlay.DefaultIP\n",
       "processing_system7_0 : pynq.overlay.DefaultIP\n",
       "\n",
       "Hierarchies\n",
       "-----------\n",
       "None\n",
       "\n",
       "Interrupts\n",
       "----------\n",
       "None\n",
       "\n",
       "GPIO Outputs\n",
       "------------\n",
       "None\n",
       "\n",
       "Memories\n",
       "------------\n",
       "PSDDR                : Memory\n",
       "\u001b[0;31mClass docstring:\u001b[0m\n",
       "This class keeps track of a single bitstream's state and contents.\n",
       "\n",
       "The overlay class holds the state of the bitstream and enables run-time\n",
       "protection of bindings.\n",
       "\n",
       "Our definition of overlay is: \"post-bitstream configurable design\".\n",
       "Hence, this class must expose configurability through content discovery\n",
       "and runtime protection.\n",
       "\n",
       "The overlay class exposes the IP and hierarchies as attributes in the\n",
       "overlay. If no other drivers are available the `DefaultIP` is constructed\n",
       "for IP cores at top level and `DefaultHierarchy` for any hierarchies that\n",
       "contain addressable IP. Custom drivers can be bound to IP and hierarchies\n",
       "by subclassing `DefaultIP` and `DefaultHierarchy`. See the help entries\n",
       "for those class for more details.\n",
       "\n",
       "This class stores four dictionaries: IP, GPIO, interrupt controller\n",
       "and interrupt pin dictionaries.\n",
       "\n",
       "Each entry of the IP dictionary is a mapping:\n",
       "'name' -> {phys_addr, addr_range, type, config, state}, where\n",
       "name (str) is the key of the entry.\n",
       "phys_addr (int) is the physical address of the IP.\n",
       "addr_range (int) is the address range of the IP.\n",
       "type (str) is the type of the IP.\n",
       "config (dict) is a dictionary of the configuration parameters.\n",
       "state (str) is the state information about the IP.\n",
       "\n",
       "Each entry of the GPIO dictionary is a mapping:\n",
       "'name' -> {pin, state}, where\n",
       "name (str) is the key of the entry.\n",
       "pin (int) is the user index of the GPIO, starting from 0.\n",
       "state (str) is the state information about the GPIO.\n",
       "\n",
       "Each entry in the interrupt controller dictionary is a mapping:\n",
       "'name' -> {parent, index}, where\n",
       "name (str) is the name of the interrupt controller.\n",
       "parent (str) is the name of the parent controller or '' if attached\n",
       "directly to the PS.\n",
       "index (int) is the index of the interrupt attached to.\n",
       "\n",
       "Each entry in the interrupt pin dictionary is a mapping:\n",
       "'name' -> {controller, index}, where\n",
       "name (str) is the name of the pin.\n",
       "controller (str) is the name of the interrupt controller.\n",
       "index (int) is the line index.\n",
       "\n",
       "Attributes\n",
       "----------\n",
       "bitfile_name : str\n",
       "    The absolute path of the bitstream.\n",
       "dtbo : str\n",
       "    The absolute path of the dtbo file for the full bitstream.\n",
       "ip_dict : dict\n",
       "    All the addressable IPs from PS. Key is the name of the IP; value is\n",
       "    a dictionary mapping the physical address, address range, IP type,\n",
       "    parameters, registers, and the state associated with that IP:\n",
       "    {str: {'phys_addr' : int, 'addr_range' : int,                'type' : str, 'parameters' : dict, 'registers': dict,                'state' : str}}.\n",
       "gpio_dict : dict\n",
       "    All the GPIO pins controlled by PS. Key is the name of the GPIO pin;\n",
       "    value is a dictionary mapping user index (starting from 0),\n",
       "    and the state associated with that GPIO pin:\n",
       "    {str: {'index' : int, 'state' : str}}.\n",
       "interrupt_controllers : dict\n",
       "    All AXI interrupt controllers in the system attached to\n",
       "    a PS interrupt line. Key is the name of the controller;\n",
       "    value is a dictionary mapping parent interrupt controller and the\n",
       "    line index of this interrupt:\n",
       "    {str: {'parent': str, 'index' : int}}.\n",
       "    The PS is the root of the hierarchy and is unnamed.\n",
       "interrupt_pins : dict\n",
       "    All pins in the design attached to an interrupt controller.\n",
       "    Key is the name of the pin; value is a dictionary\n",
       "    mapping the interrupt controller and the line index used:\n",
       "    {str: {'controller' : str, 'index' : int}}.\n",
       "pr_dict : dict\n",
       "    Dictionary mapping from the name of the partial-reconfigurable\n",
       "    hierarchical blocks to the loaded partial bitstreams:\n",
       "    {str: {'loaded': str, 'dtbo': str}}.\n",
       "device : pynq.Device\n",
       "    The device that the overlay is loaded on\n",
       "\u001b[0;31mInit docstring:\u001b[0m \n",
       "Return a new Overlay object.\n",
       "\n",
       "An overlay instantiates a bitstream object as a member initially.\n",
       "\n",
       "Parameters\n",
       "----------\n",
       "bitfile_name : str\n",
       "    The bitstream name or absolute path as a string.\n",
       "dtbo : str\n",
       "    The dtbo file name or absolute path as a string.\n",
       "download : bool\n",
       "    Whether the overlay should be downloaded.\n",
       "ignore_version : bool\n",
       "    Indicate whether or not to ignore the driver versions.\n",
       "device : pynq.Device\n",
       "    Device on which to load the Overlay. Defaults to\n",
       "    pynq.Device.active_device\n",
       "\n",
       "Note\n",
       "----\n",
       "This class requires a HWH file to be next to bitstream file\n",
       "with same name (e.g. `base.bit` and `base.hwh`).\n"
      ]
     },
     "metadata": {},
     "output_type": "display_data"
    }
   ],
   "source": [
    "overlay?"
   ]
  },
  {
   "cell_type": "code",
   "execution_count": 3,
   "id": "32167894",
   "metadata": {},
   "outputs": [],
   "source": [
    "CTRL_WEST = AxiGPIO(overlay.ip_dict['CTRL_WEST']).channel1\n",
    "CTRL_NORTH = AxiGPIO(overlay.ip_dict['CTRL_NORTH']).channel1\n",
    "SYNC = AxiGPIO(overlay.ip_dict['SYNC']).channel1\n",
    "ADC_1 = AxiGPIO(overlay.ip_dict['ADC_1']).channel1\n",
    "ADC_2 = AxiGPIO(overlay.ip_dict['ADC_2']).channel1\n",
    "ADC_3 = AxiGPIO(overlay.ip_dict['ADC_3']).channel1\n",
    "ADC_4 = AxiGPIO(overlay.ip_dict['ADC_4']).channel1\n",
    "AD5628 = overlay.DA4_SPI"
   ]
  },
  {
   "cell_type": "code",
   "execution_count": 4,
   "id": "9b38b908-06ba-4b7e-8fe3-3f9709d26a06",
   "metadata": {},
   "outputs": [],
   "source": [
    "bit1 = ADC_1[1].read()"
   ]
  },
  {
   "cell_type": "code",
   "execution_count": 5,
   "id": "cdd3e3a9-9696-47e0-92c0-cd2b7391eab8",
   "metadata": {},
   "outputs": [],
   "source": [
    "bit2 = ADC_2[1].read()"
   ]
  },
  {
   "cell_type": "code",
   "execution_count": 6,
   "id": "0e066ee4-a754-4151-8700-a47bb7b57967",
   "metadata": {},
   "outputs": [
    {
     "data": {
      "text/plain": [
       "1"
      ]
     },
     "execution_count": 6,
     "metadata": {},
     "output_type": "execute_result"
    }
   ],
   "source": [
    "bit1"
   ]
  },
  {
   "cell_type": "code",
   "execution_count": 7,
   "id": "6f2c4604-0df7-4040-b504-35c3ec84c81a",
   "metadata": {},
   "outputs": [
    {
     "data": {
      "text/plain": [
       "1"
      ]
     },
     "execution_count": 7,
     "metadata": {},
     "output_type": "execute_result"
    }
   ],
   "source": [
    "bit2"
   ]
  },
  {
   "cell_type": "code",
   "execution_count": 8,
   "id": "bb55ae72-81e0-4f96-9439-b7281fc907d0",
   "metadata": {},
   "outputs": [],
   "source": [
    "CTRL_WEST[0].on()\n",
    "CTRL_WEST[2].on()"
   ]
  },
  {
   "cell_type": "code",
   "execution_count": 41,
   "id": "221f6b29-559f-4f18-9001-50c184cd0fb4",
   "metadata": {},
   "outputs": [
    {
     "data": {
      "text/plain": [
       "0"
      ]
     },
     "execution_count": 41,
     "metadata": {},
     "output_type": "execute_result"
    }
   ],
   "source": [
    "ADC_1.setdirection(\"in\")\n",
    "ADC_1.setlength(12)\n",
    "raw = ADC_1.read()\n",
    "\n",
    "mask = 0b111111111111  # Equivalent to 255 or 0xFF\n",
    "masked_value = ~raw & mask\n",
    "\n",
    "\n",
    "# Output in binary\n",
    "bit = bin(masked_value)\n",
    "masked_value"
   ]
  },
  {
   "cell_type": "code",
   "execution_count": 17,
   "id": "6cec02bb-990f-40f5-b2d7-c97fb84b2b5f",
   "metadata": {},
   "outputs": [
    {
     "data": {
      "text/plain": [
       "'0b111111111111'"
      ]
     },
     "execution_count": 17,
     "metadata": {},
     "output_type": "execute_result"
    }
   ],
   "source": [
    "bit1 = bin(ADC_1.read())\n",
    "bit1"
   ]
  },
  {
   "cell_type": "code",
   "execution_count": 10,
   "id": "ee46424f-b833-4bf9-99b2-07ee79ad3ba1",
   "metadata": {},
   "outputs": [
    {
     "name": "stdout",
     "output_type": "stream",
     "text": [
      "0b111111111111\n",
      "0b111111111111\n",
      "0b111111111111\n",
      "0b111111111111\n",
      "0b111111111111\n",
      "0b111111111111\n",
      "0b111111111111\n",
      "0b111111111111\n",
      "0b111111111111\n",
      "0b111111111111\n",
      "0b111111111111\n",
      "0b111111111111\n",
      "0b111111111111\n",
      "0b111111111111\n",
      "0b111111111111\n",
      "0b111111111111\n",
      "0b111111111111\n",
      "0b111111111111\n",
      "0b111111111111\n",
      "0b111111111111\n",
      "0b111111111111\n",
      "0b111111111111\n",
      "0b111111111111\n",
      "0b111111111111\n",
      "0b111111111111\n",
      "0b111111111111\n",
      "0b111111111111\n",
      "0b111111111111\n",
      "0b111111111111\n",
      "0b111111111111\n",
      "0b111111111111\n"
     ]
    },
    {
     "ename": "KeyboardInterrupt",
     "evalue": "",
     "output_type": "error",
     "traceback": [
      "\u001b[0;31m---------------------------------------------------------------------------\u001b[0m",
      "\u001b[0;31mKeyboardInterrupt\u001b[0m                         Traceback (most recent call last)",
      "\u001b[0;32m<ipython-input-10-2ab25432700b>\u001b[0m in \u001b[0;36m<module>\u001b[0;34m\u001b[0m\n\u001b[1;32m      1\u001b[0m \u001b[0;32mfor\u001b[0m \u001b[0mi\u001b[0m \u001b[0;32min\u001b[0m \u001b[0mrange\u001b[0m\u001b[0;34m(\u001b[0m\u001b[0;36m128\u001b[0m\u001b[0;34m)\u001b[0m\u001b[0;34m:\u001b[0m\u001b[0;34m\u001b[0m\u001b[0;34m\u001b[0m\u001b[0m\n\u001b[1;32m      2\u001b[0m     \u001b[0mprint\u001b[0m\u001b[0;34m(\u001b[0m\u001b[0mbin\u001b[0m\u001b[0;34m(\u001b[0m\u001b[0mADC_1\u001b[0m\u001b[0;34m.\u001b[0m\u001b[0mread\u001b[0m\u001b[0;34m(\u001b[0m\u001b[0;34m)\u001b[0m\u001b[0;34m)\u001b[0m\u001b[0;34m)\u001b[0m\u001b[0;34m\u001b[0m\u001b[0;34m\u001b[0m\u001b[0m\n\u001b[0;32m----> 3\u001b[0;31m     \u001b[0msleep\u001b[0m\u001b[0;34m(\u001b[0m\u001b[0;36m.2\u001b[0m\u001b[0;34m)\u001b[0m\u001b[0;34m\u001b[0m\u001b[0;34m\u001b[0m\u001b[0m\n\u001b[0m",
      "\u001b[0;31mKeyboardInterrupt\u001b[0m: "
     ]
    }
   ],
   "source": [
    "for i in range(128):\n",
    "    print(bin(ADC_1.read()))\n",
    "    sleep(.2)"
   ]
  },
  {
   "cell_type": "code",
   "execution_count": 36,
   "id": "3543bcc5",
   "metadata": {},
   "outputs": [
    {
     "name": "stdout",
     "output_type": "stream",
     "text": [
      "AD5628 Initialized\n"
     ]
    }
   ],
   "source": [
    "#Initialize\n",
    "sync = AxiGPIO(overlay.ip_dict['SYNC']).channel1\n",
    "sync.setdirection(\"out\")\n",
    "sync.setlength(1)\n",
    "ad5628 = overlay.DA4_SPI\n",
    "mask = 0xffffffff\n",
    "sync.write(0x1,mask)\n",
    "print(\"AD5628 Initialized\")"
   ]
  },
  {
   "cell_type": "code",
   "execution_count": 37,
   "id": "c6268328",
   "metadata": {},
   "outputs": [
    {
     "data": {
      "text/plain": [
       "'AD5628 Configured'"
      ]
     },
     "execution_count": 37,
     "metadata": {},
     "output_type": "execute_result"
    }
   ],
   "source": [
    "configure_ad5628(ad5628,0,1)"
   ]
  },
  {
   "cell_type": "code",
   "execution_count": 38,
   "id": "af2fe2da",
   "metadata": {},
   "outputs": [
    {
     "data": {
      "text/plain": [
       "'Reference voltage set'"
      ]
     },
     "execution_count": 38,
     "metadata": {},
     "output_type": "execute_result"
    }
   ],
   "source": [
    "set_reference_voltage(sync, ad5628)"
   ]
  },
  {
   "cell_type": "code",
   "execution_count": 42,
   "id": "8d8c1d08",
   "metadata": {},
   "outputs": [
    {
     "data": {
      "text/plain": [
       "'All Channels Updated'"
      ]
     },
     "execution_count": 42,
     "metadata": {},
     "output_type": "execute_result"
    }
   ],
   "source": [
    "write_channel(sync,ad5628,0, 2)\n",
    "write_channel(sync,ad5628,1, 0)\n",
    "write_channel(sync,ad5628,2, 2.1)\n",
    "write_channel(sync,ad5628,3, 0)\n",
    "write_channel(sync,ad5628,4, 2.2)\n",
    "write_channel(sync,ad5628,5, 0)\n",
    "write_channel(sync,ad5628,6, 2.3)\n",
    "write_channel(sync,ad5628,7, 0)\n",
    "update_all_channels(sync,ad5628)"
   ]
  },
  {
   "cell_type": "code",
   "execution_count": 43,
   "id": "bb2c0298",
   "metadata": {},
   "outputs": [
    {
     "data": {
      "text/plain": [
       "'All Channels Cleared'"
      ]
     },
     "execution_count": 43,
     "metadata": {},
     "output_type": "execute_result"
    }
   ],
   "source": [
    "clear_all_channels(sync, ad5628)"
   ]
  },
  {
   "cell_type": "code",
   "execution_count": 44,
   "id": "490cd81a",
   "metadata": {},
   "outputs": [
    {
     "data": {
      "text/plain": [
       "'All Channels Cleared'"
      ]
     },
     "execution_count": 44,
     "metadata": {},
     "output_type": "execute_result"
    }
   ],
   "source": [
    "for i in range(32):\n",
    "    write_channel(sync,ad5628,0, 2)\n",
    "    write_channel(sync,ad5628,1, 0.5)\n",
    "    update_all_channels(sync,ad5628)\n",
    "    # sleep(.2)\n",
    "    write_channel(sync,ad5628,0, 0)\n",
    "    write_channel(sync,ad5628,1, 0)\n",
    "    update_all_channels(sync,ad5628)\n",
    "    sleep(.2)\n",
    "    \n",
    "clear_all_channels(sync, ad5628)"
   ]
  },
  {
   "cell_type": "code",
   "execution_count": null,
   "id": "65e95d64",
   "metadata": {},
   "outputs": [],
   "source": []
  }
 ],
 "metadata": {
  "kernelspec": {
   "display_name": "Python 3",
   "language": "python",
   "name": "python3"
  },
  "language_info": {
   "codemirror_mode": {
    "name": "ipython",
    "version": 3
   },
   "file_extension": ".py",
   "mimetype": "text/x-python",
   "name": "python",
   "nbconvert_exporter": "python",
   "pygments_lexer": "ipython3",
   "version": "3.8.2"
  }
 },
 "nbformat": 4,
 "nbformat_minor": 5
}
