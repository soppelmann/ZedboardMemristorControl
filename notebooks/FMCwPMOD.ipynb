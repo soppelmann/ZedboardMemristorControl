{
 "cells": [
  {
   "cell_type": "code",
   "execution_count": null,
   "id": "9b85705c",
   "metadata": {},
   "outputs": [],
   "source": [
    "from pynq import Overlay\n",
    "from pynq import MMIO\n",
    "from time import sleep\n",
    "from pynq.lib import AxiGPIO\n",
    "overlay = Overlay('/home/xilinx/pynq/overlays/FMC/fmc.bit')"
   ]
  },
  {
   "cell_type": "code",
   "execution_count": null,
   "id": "0de80f80",
   "metadata": {},
   "outputs": [],
   "source": [
    "overlay?"
   ]
  },
  {
   "cell_type": "code",
   "execution_count": null,
   "id": "32167894",
   "metadata": {},
   "outputs": [],
   "source": [
    "CTRL_WEST = AxiGPIO(overlay.ip_dict['CTRL_WEST']).channel1\n",
    "CTRL_NORTH = AxiGPIO(overlay.ip_dict['CTRL_NORTH']).channel1\n",
    "ADC_1 = AxiGPIO(overlay.ip_dict['ADC_1']).channel1\n",
    "ADC_2 = AxiGPIO(overlay.ip_dict['ADC_2']).channel1\n",
    "ADC_3 = AxiGPIO(overlay.ip_dict['ADC_3']).channel1\n",
    "ADC_4 = AxiGPIO(overlay.ip_dict['ADC_4']).channel1"
   ]
  },
  {
   "cell_type": "code",
   "execution_count": null,
   "id": "9b38b908-06ba-4b7e-8fe3-3f9709d26a06",
   "metadata": {},
   "outputs": [],
   "source": [
    "bit1 = ADC_1[1].read()"
   ]
  },
  {
   "cell_type": "code",
   "execution_count": null,
   "id": "cdd3e3a9-9696-47e0-92c0-cd2b7391eab8",
   "metadata": {},
   "outputs": [],
   "source": [
    "bit2 = ADC_2[1].read()"
   ]
  },
  {
   "cell_type": "code",
   "execution_count": null,
   "id": "0e066ee4-a754-4151-8700-a47bb7b57967",
   "metadata": {},
   "outputs": [],
   "source": [
    "bit1"
   ]
  },
  {
   "cell_type": "code",
   "execution_count": null,
   "id": "6f2c4604-0df7-4040-b504-35c3ec84c81a",
   "metadata": {},
   "outputs": [],
   "source": [
    "bit2"
   ]
  },
  {
   "cell_type": "code",
   "execution_count": null,
   "id": "bb55ae72-81e0-4f96-9439-b7281fc907d0",
   "metadata": {},
   "outputs": [],
   "source": [
    "CTRL_WEST[0].on()\n",
    "CTRL_WEST[2].on()"
   ]
  },
  {
   "cell_type": "code",
   "execution_count": null,
   "id": "65e3080b-54b0-43f9-8c54-9aaa69f79932",
   "metadata": {},
   "outputs": [],
   "source": [
    "for i in range(64):\n",
    "    bit1 = ADC_1[5].read()\n",
    "    bit2 = ADC_1[2].read()\n",
    "    print(bit1)\n",
    "    print(bit2)\n",
    "    sleep(.2)"
   ]
  },
  {
   "cell_type": "code",
   "execution_count": null,
   "id": "221f6b29-559f-4f18-9001-50c184cd0fb4",
   "metadata": {},
   "outputs": [],
   "source": [
    "ADC_1.setdirection(\"in\")\n",
    "ADC_1.setlength(12)\n",
    "bin(ADC_1.read())\n",
    "mask = 4095"
   ]
  },
  {
   "cell_type": "code",
   "execution_count": null,
   "id": "ee46424f-b833-4bf9-99b2-07ee79ad3ba1",
   "metadata": {},
   "outputs": [],
   "source": [
    "for i in range(128):\n",
    "    print(bin(ADC_1.read()) & mask)\n",
    "    sleep(.2)"
   ]
  },
  {
   "cell_type": "code",
   "execution_count": null,
   "id": "3fa205ee-314f-4894-8c1b-e9e3c0496f92",
   "metadata": {},
   "outputs": [],
   "source": []
  },
  {
   "cell_type": "code",
   "execution_count": null,
   "id": "35e06c06-2267-4156-bb30-c8980f33e45a",
   "metadata": {},
   "outputs": [],
   "source": []
  },
  {
   "cell_type": "code",
   "execution_count": null,
   "id": "a46ff232-31e1-4aa7-be35-b3746e0c747b",
   "metadata": {},
   "outputs": [],
   "source": []
  }
 ],
 "metadata": {
  "kernelspec": {
   "display_name": "Python 3",
   "language": "python",
   "name": "python3"
  },
  "language_info": {
   "codemirror_mode": {
    "name": "ipython",
    "version": 3
   },
   "file_extension": ".py",
   "mimetype": "text/x-python",
   "name": "python",
   "nbconvert_exporter": "python",
   "pygments_lexer": "ipython3",
   "version": "3.8.2"
  }
 },
 "nbformat": 4,
 "nbformat_minor": 5
}
